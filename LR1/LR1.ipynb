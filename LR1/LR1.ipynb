{
 "cells": [
  {
   "cell_type": "code",
   "execution_count": 1,
   "id": "3abeafb6-7248-49fa-bf24-b2401a67f06b",
   "metadata": {},
   "outputs": [],
   "source": [
    "from pyspark import SparkContext, SparkConf\n",
    "\n",
    "import pyspark.sql as sql\n",
    "from pyspark.sql import SparkSession\n",
    "from pyspark.sql.types import DoubleType\n",
    "from pyspark.sql.functions import udf, col, max, sum, countDistinct"
   ]
  },
  {
   "cell_type": "markdown",
   "id": "a5e96d11-587d-424b-a225-5f6112927b94",
   "metadata": {},
   "source": [
    "**Инициализация сесии**"
   ]
  },
  {
   "cell_type": "code",
   "execution_count": 2,
   "id": "e830b367-a505-4d24-a231-a22bdbf5490e",
   "metadata": {},
   "outputs": [],
   "source": [
    "spark = SparkSession \\\n",
    "    .builder \\\n",
    "    .appName(\"L1_Vakhlaeva_6131\") \\\n",
    "    .getOrCreate()"
   ]
  },
  {
   "cell_type": "code",
   "execution_count": 3,
   "id": "834e20fe-cc25-456c-af77-a134c35ed57f",
   "metadata": {},
   "outputs": [
    {
     "data": {
      "text/plain": [
       "'3.1.2.0-eep-800'"
      ]
     },
     "execution_count": 3,
     "metadata": {},
     "output_type": "execute_result"
    }
   ],
   "source": [
    "spark.version"
   ]
  },
  {
   "cell_type": "markdown",
   "id": "2276cbce-6d4d-4a43-bcc4-0fd9d0f9b99c",
   "metadata": {},
   "source": [
    "**Просмотрим данные велопарковок Сан-Франциско**"
   ]
  },
  {
   "cell_type": "code",
   "execution_count": 5,
   "id": "5b9f5843-d21d-4fd9-97c4-7d06ea921318",
   "metadata": {},
   "outputs": [],
   "source": [
    "trip = spark.read\\\n",
    ".option(\"header\", True)\\\n",
    ".option(\"inferSchema\", True)\\\n",
    ".option(\"timestampFormat\", 'M/d/y H:m')\\\n",
    ".csv(\"trip.csv\")"
   ]
  },
  {
   "cell_type": "code",
   "execution_count": 6,
   "id": "e543a3c1-e5a2-4a6b-8fd4-e9bf41334340",
   "metadata": {},
   "outputs": [
    {
     "name": "stdout",
     "output_type": "stream",
     "text": [
      "root\n",
      " |-- id: integer (nullable = true)\n",
      " |-- duration: integer (nullable = true)\n",
      " |-- start_date: timestamp (nullable = true)\n",
      " |-- start_station_name: string (nullable = true)\n",
      " |-- start_station_id: integer (nullable = true)\n",
      " |-- end_date: timestamp (nullable = true)\n",
      " |-- end_station_name: string (nullable = true)\n",
      " |-- end_station_id: integer (nullable = true)\n",
      " |-- bike_id: integer (nullable = true)\n",
      " |-- subscription_type: string (nullable = true)\n",
      " |-- zip_code: string (nullable = true)\n",
      "\n"
     ]
    }
   ],
   "source": [
    "trip.printSchema()"
   ]
  },
  {
   "cell_type": "code",
   "execution_count": 7,
   "id": "c5f7e0f9-0bc3-4adf-a9cc-6506ee9a901c",
   "metadata": {},
   "outputs": [],
   "source": [
    "station = spark.read\\\n",
    ".option(\"header\", True)\\\n",
    ".option(\"inferSchema\", True)\\\n",
    ".option(\"timestampFormat\", 'M/d/y H:m')\\\n",
    ".csv(\"station.csv\")"
   ]
  },
  {
   "cell_type": "code",
   "execution_count": 8,
   "id": "d81a8f53-f831-416c-a4ab-c431ee2e4f57",
   "metadata": {},
   "outputs": [
    {
     "name": "stdout",
     "output_type": "stream",
     "text": [
      "root\n",
      " |-- id: integer (nullable = true)\n",
      " |-- name: string (nullable = true)\n",
      " |-- lat: double (nullable = true)\n",
      " |-- long: double (nullable = true)\n",
      " |-- dock_count: integer (nullable = true)\n",
      " |-- city: string (nullable = true)\n",
      " |-- installation_date: string (nullable = true)\n",
      "\n"
     ]
    }
   ],
   "source": [
    "station.printSchema()"
   ]
  },
  {
   "cell_type": "markdown",
   "id": "9573c4fe-5878-4a74-93a5-24674b18b46b",
   "metadata": {},
   "source": [
    "**1. Найти велосипед с максимальным временем пробега**"
   ]
  },
  {
   "cell_type": "code",
   "execution_count": 75,
   "id": "bd2511e9-fc9d-404f-9495-e2f6732cd027",
   "metadata": {},
   "outputs": [
    {
     "name": "stdout",
     "output_type": "stream",
     "text": [
      "ID велосипеда с максимальным временем пробега: 535\n",
      "Максимальное время пробега: 17270400\n"
     ]
    }
   ],
   "source": [
    "max_duration_bike = trip.groupBy(\"bike_id\").agg(max(\"duration\").alias(\"max_duration\")).orderBy(col(\"max_duration\").desc()).first()\n",
    "\n",
    "print(\"ID велосипеда с максимальным временем пробега:\", max_duration_bike[\"bike_id\"])\n",
    "print(\"Максимальное время пробега:\", max_duration_bike[\"max_duration\"])"
   ]
  },
  {
   "cell_type": "markdown",
   "id": "3613254d-16a6-4f70-b846-b6a6e0d0232e",
   "metadata": {},
   "source": [
    "**2. Найти наибольшее геодезическое расстояние между станциями.**"
   ]
  },
  {
   "cell_type": "markdown",
   "id": "bae9aa0a-c203-454f-b211-ee787fdccb4d",
   "metadata": {},
   "source": [
    "Геодезическое расстояние - это расстояние, измеренное вдоль поверхности Земли, или кратчайшая длина дуги."
   ]
  },
  {
   "cell_type": "markdown",
   "id": "a5bb76ea-1d15-44f7-aef4-1566cf0792d0",
   "metadata": {},
   "source": [
    "Чтобы рассчитать геодезическое расстоние создадим таблицу, в которой можно будет рассматривать все возможные комбинации "
   ]
  },
  {
   "cell_type": "code",
   "execution_count": 31,
   "id": "c1097c4d-987a-42e2-ab9f-25eac8cac068",
   "metadata": {},
   "outputs": [],
   "source": [
    "station_joined = station.alias(\"st1\").crossJoin(station.alias(\"st2\"))"
   ]
  },
  {
   "cell_type": "code",
   "execution_count": 19,
   "id": "6434026e-c827-4042-ab16-cb1cf97bf891",
   "metadata": {},
   "outputs": [],
   "source": [
    "R_of_earth = 6371.0 "
   ]
  },
  {
   "cell_type": "markdown",
   "id": "bd40191d-657f-4a7c-b00a-fda65273dc65",
   "metadata": {},
   "source": [
    "Расчет расстояния был выполнен, используя следующий источник: https://en.wikipedia.org/wiki/Haversine_formula "
   ]
  },
  {
   "cell_type": "code",
   "execution_count": 44,
   "id": "913cbf25-b35d-4062-8f8e-ca8780f89b51",
   "metadata": {},
   "outputs": [],
   "source": [
    "from math import sin, cos, radians, asin \n",
    "\n",
    "def geodesic_distance(lat1, lon1, lat2, lon2):\n",
    "    if lat1 is None or lon1 is None or lat2 is None or lon2 is None:\n",
    "        return None\n",
    "    rlat1 = radians(lat1)\n",
    "    rlat2 = radians(lat2)\n",
    "    rlon1 = radians(lon1)\n",
    "    rlon2 = radians(lon2)\n",
    "    \n",
    "    a = sin((rlat2 - rlat1) / 2)**2 + cos(rlat1) * cos(rlat2) * sin((rlon2 - rlon1) / 2)**2\n",
    "    S = 2 * asin(min(1, (a ** 0.5)))\n",
    "\n",
    "    return R_of_earth * S\n",
    "\n",
    "geodesic_distance_udf = udf(geodesic_distance, DoubleType())"
   ]
  },
  {
   "cell_type": "code",
   "execution_count": 46,
   "id": "8af3a81e-8824-47ba-8131-89929e1e7671",
   "metadata": {},
   "outputs": [
    {
     "name": "stdout",
     "output_type": "stream",
     "text": [
      "Максимальное геодезическое расстояние: 69.92087595428183 км. \n"
     ]
    }
   ],
   "source": [
    "# Вычисление расстояния для каждой пары станций с помощью объявленной ранее функции\n",
    "station_joined_distance = station_joined.withColumn(\n",
    "    \"geodesic_distance\",\n",
    "    geodesic_distance_udf(\n",
    "        col(\"st1.lat\"),\n",
    "        col(\"st1.long\"),\n",
    "        col(\"st2.lat\"),\n",
    "        col(\"st2.long\")\n",
    "    )\n",
    ")\n",
    "\n",
    "#Нахождение максимального геодезического расстояния\n",
    "max_distance = station_joined_distance.orderBy(col(\"geodesic_distance\").desc()).first()\n",
    "print(\"Максимальное геодезическое расстояние:\", max_distance[\"geodesic_distance\"], 'км. ')"
   ]
  },
  {
   "cell_type": "markdown",
   "id": "5744e84f-9ffa-495e-802f-63ee23474106",
   "metadata": {},
   "source": [
    "**3. Найти путь велосипеда с максимальным временем пробега через станции**"
   ]
  },
  {
   "cell_type": "code",
   "execution_count": 49,
   "id": "eaf7ed6d-09da-4dfa-b957-c1c3d54329d5",
   "metadata": {},
   "outputs": [],
   "source": [
    "#Сначала определим максимальное время пробега и bike_id, который его достиг\n",
    "max_duration_info = trip.agg({\"duration\": \"max\"}).collect()[0]\n",
    "max_duration = max_duration_info[\"max(duration)\"]\n",
    "\n",
    "bike_id_ = (\n",
    "    trip.filter(col(\"duration\") == max_duration)\n",
    "    .select(\"bike_id\")\n",
    "    .distinct()\n",
    "    .collect()[0][\"bike_id\"]\n",
    ")"
   ]
  },
  {
   "cell_type": "code",
   "execution_count": 51,
   "id": "8807b474-4f76-46cd-a9cc-e2d92a52d584",
   "metadata": {},
   "outputs": [],
   "source": [
    "#Поездки для bike_id, у которого максимальное время пробега\n",
    "max_duration_trips = trip.filter(col(\"bike_id\") == bike_id_)\n",
    "\n",
    "#Склеивание таблиц по начальным и конечным станциям\n",
    "joined_max_duration = max_duration_trips.join(station, max_duration_trips[\"start_station_id\"] == station[\"id\"], \"inner\")"
   ]
  },
  {
   "cell_type": "code",
   "execution_count": 57,
   "id": "24a82f6d-4efd-45af-9723-864c5a9e6274",
   "metadata": {},
   "outputs": [
    {
     "name": "stdout",
     "output_type": "stream",
     "text": [
      "+----------------------------------------+----------------+----------------------------------------+--------------+--------+\n",
      "|start_station_name                      |start_station_id|end_station_name                        |end_station_id|duration|\n",
      "+----------------------------------------+----------------+----------------------------------------+--------------+--------+\n",
      "|South Van Ness at Market                |66              |2nd at Folsom                           |62            |17270400|\n",
      "|South Van Ness at Market                |66              |2nd at Folsom                           |62            |17270400|\n",
      "|Powell Street BART                      |39              |Civic Center BART (7th at Market)       |72            |87638   |\n",
      "|San Francisco Caltrain (Townsend at 4th)|70              |Steuart at Market                       |74            |33659   |\n",
      "|San Francisco Caltrain (Townsend at 4th)|70              |Steuart at Market                       |74            |33659   |\n",
      "|Market at 10th                          |67              |San Francisco Caltrain (Townsend at 4th)|70            |25909   |\n",
      "|2nd at Folsom                           |62              |Mechanics Plaza (Market at Battery)     |75            |25179   |\n",
      "|Powell at Post (Union Square)           |71              |Powell at Post (Union Square)           |71            |24920   |\n",
      "|Market at Sansome                       |77              |Market at Sansome                       |77            |22787   |\n",
      "|Broadway St at Battery St               |82              |Harry Bridges Plaza (Ferry Building)    |50            |22363   |\n",
      "|Broadway St at Battery St               |82              |Harry Bridges Plaza (Ferry Building)    |50            |22363   |\n",
      "|Grant Avenue at Columbus Avenue         |73              |Grant Avenue at Columbus Avenue         |73            |21153   |\n",
      "|Grant Avenue at Columbus Avenue         |73              |Grant Avenue at Columbus Avenue         |73            |21153   |\n",
      "|Post at Kearney                         |47              |Post at Kearney                         |47            |18983   |\n",
      "|5th at Howard                           |57              |5th at Howard                           |57            |16936   |\n",
      "|Embarcadero at Sansome                  |60              |Harry Bridges Plaza (Ferry Building)    |50            |16589   |\n",
      "|Embarcadero at Sansome                  |60              |Harry Bridges Plaza (Ferry Building)    |50            |16589   |\n",
      "|Embarcadero at Sansome                  |60              |Embarcadero at Vallejo                  |48            |15606   |\n",
      "|Civic Center BART (7th at Market)       |72              |Market at 10th                          |67            |14746   |\n",
      "|Broadway St at Battery St               |82              |Embarcadero at Sansome                  |60            |14335   |\n",
      "+----------------------------------------+----------------+----------------------------------------+--------------+--------+\n",
      "only showing top 20 rows\n",
      "\n"
     ]
    }
   ],
   "source": [
    "#Теперь считаем путь для bike_id. \n",
    "max_duration_path = (\n",
    "    trip.filter(col(\"bike_id\") == bike_id_)\n",
    "    .join(station, trip[\"start_station_id\"] == station[\"id\"], \"inner\")\n",
    "    .select(\n",
    "        \"start_station_name\",\n",
    "        \"start_station_id\",\n",
    "        \"end_station_name\",\n",
    "        \"end_station_id\",\n",
    "        \"duration\"\n",
    "    )\n",
    "    .orderBy(col(\"duration\").desc())\n",
    ")\n",
    "\n",
    "max_duration_path.show(truncate=False)"
   ]
  },
  {
   "cell_type": "markdown",
   "id": "63a3d96c-0cfe-41ac-a39f-a7825932647b",
   "metadata": {},
   "source": [
    "Путь велосипеда с максимальным временем пробега через станции начался со станции \"South Van Ness at Market\" и закончился - \"2nd at Folsom\""
   ]
  },
  {
   "cell_type": "markdown",
   "id": "32aea90f-9d86-42bf-8902-63d7af350242",
   "metadata": {},
   "source": [
    "**4. Найти количество велосипедов в системе**"
   ]
  },
  {
   "cell_type": "code",
   "execution_count": 62,
   "id": "a1094dcb-ec96-4856-96f8-d9c144b065c6",
   "metadata": {},
   "outputs": [
    {
     "data": {
      "text/plain": [
       "700"
      ]
     },
     "execution_count": 62,
     "metadata": {},
     "output_type": "execute_result"
    }
   ],
   "source": [
    "trip.select(\"bike_id\").distinct().count()"
   ]
  },
  {
   "cell_type": "markdown",
   "id": "8edc1b6b-6c3d-42bc-83e6-f63c2dde1dc3",
   "metadata": {},
   "source": [
    "**5. Найти пользователей потративших на поездки более 3 часов**"
   ]
  },
  {
   "cell_type": "code",
   "execution_count": 73,
   "id": "666226ae-d3ed-4f4d-97b7-d2cf853462e3",
   "metadata": {},
   "outputs": [
    {
     "name": "stdout",
     "output_type": "stream",
     "text": [
      "+-----------------+--------+\n",
      "|subscription_type|zip_code|\n",
      "+-----------------+--------+\n",
      "|Customer         |92629   |\n",
      "|Customer         |95112   |\n",
      "|Customer         |32      |\n",
      "|Customer         |91766   |\n",
      "|Customer         |94002   |\n",
      "|Subscriber       |95111   |\n",
      "|Customer         |94304   |\n",
      "|Customer         |78050   |\n",
      "|Customer         |1325    |\n",
      "|Customer         |78666   |\n",
      "|Customer         |123543  |\n",
      "|Customer         |60656   |\n",
      "|Customer         |5160011 |\n",
      "|Customer         |8203    |\n",
      "|Customer         |30542   |\n",
      "|Subscriber       |94544   |\n",
      "|Customer         |95032   |\n",
      "|Customer         |302     |\n",
      "|Customer         |2145    |\n",
      "|Customer         |80111   |\n",
      "+-----------------+--------+\n",
      "only showing top 20 rows\n",
      "\n"
     ]
    },
    {
     "data": {
      "text/plain": [
       "2215"
      ]
     },
     "execution_count": 73,
     "metadata": {},
     "output_type": "execute_result"
    }
   ],
   "source": [
    "trips_more_3_hours = trip.filter(col(\"duration\") > 180*60)\n",
    "users_ = trips_more_3_hours.select(\"subscription_type\", \"zip_code\").distinct()\n",
    "\n",
    "users_.show(truncate=False)\n",
    "users_.count()"
   ]
  }
 ],
 "metadata": {
  "kernelspec": {
   "display_name": "Python 3",
   "language": "python",
   "name": "python3"
  },
  "language_info": {
   "codemirror_mode": {
    "name": "ipython",
    "version": 3
   },
   "file_extension": ".py",
   "mimetype": "text/x-python",
   "name": "python",
   "nbconvert_exporter": "python",
   "pygments_lexer": "ipython3",
   "version": "3.9.5"
  }
 },
 "nbformat": 4,
 "nbformat_minor": 5
}
